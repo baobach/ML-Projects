{
 "cells": [
  {
   "cell_type": "code",
   "execution_count": 1,
   "metadata": {},
   "outputs": [],
   "source": [
    "# Im port libraries\n",
    "import pandas as pd\n",
    "# Plot Data\n",
    "import matplotlib.pyplot as plt\n",
    "# Heatmap\n",
    "import seaborn as sns\n",
    "# Import Metrics - Mean Absolute Error\n",
    "from sklearn.metrics import mean_absolute_error\n",
    "# Find file names that have similar structure\n",
    "from glob import glob\n",
    "# Import Imputer aka Transfomer (fill in missing information)\n",
    "from sklearn.impute import SimpleImputer\n",
    "# Another Transformer for Catergory data\n",
    "from category_encoders import OneHotEncoder\n",
    "# Import Linear Regression model and Ridge model aka Predictors. Select just one!!!\n",
    "from sklearn.linear_model import LinearRegression, Ridge\n",
    "# Create pipeline package from Transfomer and Predictor\n",
    "from sklearn.pipeline import Pipeline, make_pipeline\n",
    "# Model Fit Check\n",
    "from sklearn.utils.validation import check_is_fitted\n",
    "# Interactive dashboard\n",
    "from ipywidgets import Dropdown, FloatSlider, IntSlider, interact"
   ]
  },
  {
   "attachments": {},
   "cell_type": "markdown",
   "metadata": {},
   "source": [
    "# Prepare Data"
   ]
  },
  {
   "cell_type": "code",
   "execution_count": 2,
   "metadata": {},
   "outputs": [],
   "source": [
    "# Build your `wrangle` function\n",
    "def wrangle(filepath):\n",
    "    # Import file\n",
    "    df = pd.read_csv(filepath)\n",
    "    # Mask the state = {Mexico City}\n",
    "    mask_state = df[\"place_with_parent_names\"].str.contains(\"Distrito Federal\")\n",
    "    # Mask only apartment\n",
    "    mask_apt = df[\"property_type\"] == \"apartment\"\n",
    "    # Mask the price < $100k\n",
    "    mask_price = df[\"price_aprox_usd\"] < 100_000\n",
    "    df = df[mask_state & mask_apt& mask_price]\n",
    "    # Remove outliers top and bottom 10%\n",
    "    low, high = df[\"surface_covered_in_m2\"].quantile([0.1, 0.9])\n",
    "    mask_area = df[\"surface_covered_in_m2\"].between(low, high)\n",
    "    \n",
    "    df = df[mask_area]\n",
    "    # Separate lat-lon\n",
    "    df[[\"lat\", \"lon\"]] = df[\"lat-lon\"].str.split(\",\", expand=True).astype(float)\n",
    "    df.drop(columns = [\"lat-lon\"], inplace=True)\n",
    "    \n",
    "    # Create a borough column\n",
    "    df[\"borough\"] = df[\"place_with_parent_names\"].str.split(\"|\", expand=True)[1]\n",
    "    \n",
    "    # Drop 50% above null columns\n",
    "    df.drop(columns = [\"surface_total_in_m2\", \"price_usd_per_m2\", \"floor\", \"rooms\", \"expenses\"], inplace=True)\n",
    "    \n",
    "    # Drop low and high collinearity columns\n",
    "    df.drop(columns = [\"operation\", \"property_type\", \"currency\", \"properati_url\"], inplace = True)\n",
    "    \n",
    "    # Drop leaky columns\n",
    "    df.drop(columns = [\"price\", \"price_aprox_local_currency\", \"price_per_m2\"], inplace=True)\n",
    "    \n",
    "    # Drop multicollinearity\n",
    "    df.drop(columns = [\"place_with_parent_names\"], inplace=True)\n",
    "    return df"
   ]
  },
  {
   "cell_type": "code",
   "execution_count": 3,
   "metadata": {},
   "outputs": [
    {
     "data": {
      "text/plain": [
       "['data/mexico-city-real-estate-5.csv',\n",
       " 'data/mexico-city-real-estate-4.csv',\n",
       " 'data/mexico-city-real-estate-1.csv',\n",
       " 'data/mexico-city-real-estate-3.csv',\n",
       " 'data/mexico-city-real-estate-2.csv']"
      ]
     },
     "execution_count": 3,
     "metadata": {},
     "output_type": "execute_result"
    }
   ],
   "source": [
    "# Create the list of files\n",
    "files = glob(\"data/mexico-city-real-estate-*.csv\")\n",
    "files"
   ]
  },
  {
   "cell_type": "code",
   "execution_count": 4,
   "metadata": {},
   "outputs": [
    {
     "name": "stdout",
     "output_type": "stream",
     "text": [
      "<class 'pandas.core.frame.DataFrame'>\n",
      "RangeIndex: 5473 entries, 0 to 5472\n",
      "Data columns (total 5 columns):\n",
      " #   Column                 Non-Null Count  Dtype  \n",
      "---  ------                 --------------  -----  \n",
      " 0   price_aprox_usd        5473 non-null   float64\n",
      " 1   surface_covered_in_m2  5473 non-null   float64\n",
      " 2   lat                    5149 non-null   float64\n",
      " 3   lon                    5149 non-null   float64\n",
      " 4   borough                5473 non-null   object \n",
      "dtypes: float64(4), object(1)\n",
      "memory usage: 213.9+ KB\n",
      "None\n"
     ]
    }
   ],
   "source": [
    "df = pd.concat([wrangle(file) for file in files], ignore_index=True)\n",
    "print(df.info())"
   ]
  },
  {
   "cell_type": "code",
   "execution_count": 5,
   "metadata": {},
   "outputs": [],
   "source": [
    "# Split data into feature matrix `X_train` and target vector `y_train`.\n",
    "features = [\"surface_covered_in_m2\",\"lat\",\"lon\",\"borough\"]\n",
    "target = \"price_aprox_usd\"\n",
    "X_train = df[features]\n",
    "y_train = df[target]"
   ]
  },
  {
   "attachments": {},
   "cell_type": "markdown",
   "metadata": {},
   "source": [
    "# Build model"
   ]
  },
  {
   "cell_type": "code",
   "execution_count": 6,
   "metadata": {},
   "outputs": [
    {
     "name": "stdout",
     "output_type": "stream",
     "text": [
      "Mean apt price: 54246.53149826428\n",
      "Baseline MAE: 17239.9394758883\n"
     ]
    }
   ],
   "source": [
    "# Build baseline model\n",
    "y_mean = y_train.mean()\n",
    "y_pred_baseline = [y_mean] * len(y_train)\n",
    "baseline_mae = mean_absolute_error(y_train, y_pred_baseline)\n",
    "print(\"Mean apt price:\", y_mean)\n",
    "print(\"Baseline MAE:\", baseline_mae)"
   ]
  },
  {
   "cell_type": "code",
   "execution_count": 7,
   "metadata": {},
   "outputs": [
    {
     "data": {
      "text/plain": [
       "Pipeline(steps=[('onehotencoder',\n",
       "                 OneHotEncoder(cols=['borough'], use_cat_names=True)),\n",
       "                ('simpleimputer', SimpleImputer()), ('ridge', Ridge())])"
      ]
     },
     "execution_count": 7,
     "metadata": {},
     "output_type": "execute_result"
    }
   ],
   "source": [
    "# Build Model\n",
    "model = make_pipeline(\n",
    "    OneHotEncoder(use_cat_names=True),\n",
    "    SimpleImputer(),\n",
    "    Ridge()\n",
    ")\n",
    "# Fit model\n",
    "model.fit(X_train, y_train)"
   ]
  },
  {
   "cell_type": "code",
   "execution_count": 8,
   "metadata": {},
   "outputs": [
    {
     "name": "stdout",
     "output_type": "stream",
     "text": [
      "Training MAE: 14943.165824063904\n"
     ]
    }
   ],
   "source": [
    "# Evaluate\n",
    "y_pred_training = model.predict(X_train)\n",
    "print(\"Training MAE:\", mean_absolute_error(y_train, y_pred_training))"
   ]
  },
  {
   "attachments": {},
   "cell_type": "markdown",
   "metadata": {},
   "source": [
    "# Deploy a model"
   ]
  },
  {
   "cell_type": "code",
   "execution_count": 9,
   "metadata": {},
   "outputs": [],
   "source": [
    "# Predict function\n",
    "def make_prediction(area, lat, lon, borough):\n",
    "    data = {\n",
    "        \"surface_covered_in_m2\": area,\n",
    "        \"lat\": lat,\n",
    "        \"lon\": lon,\n",
    "        \"borough\": borough\n",
    "    }\n",
    "    df = pd.DataFrame(data, index = [0])\n",
    "    prediction = model.predict(df).round(2)[0]\n",
    "    return f\"Predicted apartment price: ${prediction}\""
   ]
  },
  {
   "cell_type": "code",
   "execution_count": 10,
   "metadata": {},
   "outputs": [
    {
     "data": {
      "text/plain": [
       "0    53538.366480\n",
       "1    53171.988369\n",
       "2    34263.884179\n",
       "3    53488.425607\n",
       "4    68738.924884\n",
       "dtype: float64"
      ]
     },
     "execution_count": 10,
     "metadata": {},
     "output_type": "execute_result"
    }
   ],
   "source": [
    "X_test = pd.read_csv(\"data/mexico-city-test-features.csv\")[features]\n",
    "y_pred_test = pd.Series(model.predict(X_test))\n",
    "y_pred_test.head()"
   ]
  },
  {
   "cell_type": "code",
   "execution_count": 15,
   "metadata": {},
   "outputs": [
    {
     "name": "stdout",
     "output_type": "stream",
     "text": [
      "coefficients len: 18\n",
      "[  291.65415588   478.90137462 -2492.22181412 13778.18887983\n",
      " 10319.42980445]\n"
     ]
    }
   ],
   "source": [
    "intercept = model.named_steps[\"ridge\"].intercept_\n",
    "coefficients = model.named_steps[\"ridge\"].coef_\n",
    "print(\"coefficients len:\", len(coefficients))\n",
    "print(coefficients[:5])  # First five coefficients"
   ]
  },
  {
   "cell_type": "code",
   "execution_count": 16,
   "metadata": {},
   "outputs": [
    {
     "name": "stdout",
     "output_type": "stream",
     "text": [
      "features len: 18\n",
      "['surface_covered_in_m2', 'lat', 'lon', 'borough_Benito Juárez', 'borough_Tlalpan']\n"
     ]
    }
   ],
   "source": [
    "feature_names = model.named_steps[\"onehotencoder\"].get_feature_names()\n",
    "print(\"features len:\", len(feature_names))\n",
    "print(feature_names[:5])  # First five feature names"
   ]
  },
  {
   "cell_type": "code",
   "execution_count": 17,
   "metadata": {},
   "outputs": [
    {
     "data": {
      "text/plain": [
       "surface_covered_in_m2      291.654156\n",
       "lat                        478.901375\n",
       "lon                      -2492.221814\n",
       "borough_Benito Juárez    13778.188880\n",
       "borough_Tlalpan          10319.429804\n",
       "dtype: float64"
      ]
     },
     "execution_count": 17,
     "metadata": {},
     "output_type": "execute_result"
    }
   ],
   "source": [
    "feat_imp = pd.Series(coefficients, index=feature_names)\n",
    "feat_imp.head()"
   ]
  },
  {
   "cell_type": "code",
   "execution_count": 18,
   "metadata": {},
   "outputs": [
    {
     "name": "stdout",
     "output_type": "stream",
     "text": [
      "price = -222998.23\n",
      "+ (291.65 * surface_covered_in_m2)\n",
      "+ (478.9 * lat)\n",
      "+ (-2492.22 * lon)\n",
      "+ (13778.19 * borough_Benito Juárez)\n",
      "+ (10319.43 * borough_Tlalpan)\n",
      "+ (-13349.02 * borough_Iztapalapa)\n",
      "+ (-6637.43 * borough_Gustavo A. Madero)\n",
      "+ (-5609.92 * borough_Venustiano Carranza)\n",
      "+ (405.4 * borough_Iztacalco)\n",
      "+ (3737.56 * borough_Coyoacán)\n",
      "+ (-350.53 * borough_Cuauhtémoc)\n",
      "+ (1977.31 * borough_Miguel Hidalgo)\n",
      "+ (2459.29 * borough_Azcapotzalco)\n",
      "+ (-14166.87 * borough_Tláhuac)\n",
      "+ (3275.12 * borough_Álvaro Obregón)\n",
      "+ (-5925.67 * borough_La Magdalena Contreras)\n",
      "+ (929.86 * borough_Xochimilco)\n",
      "+ (9157.27 * borough_Cuajimalpa de Morelos)\n"
     ]
    }
   ],
   "source": [
    "print(f\"price = {intercept.round(2)}\")\n",
    "for f, c in feat_imp.items():\n",
    "    print(f\"+ ({round(c, 2)} * {f})\")"
   ]
  }
 ],
 "metadata": {
  "kernelspec": {
   "display_name": "base",
   "language": "python",
   "name": "python3"
  },
  "language_info": {
   "codemirror_mode": {
    "name": "ipython",
    "version": 3
   },
   "file_extension": ".py",
   "mimetype": "text/x-python",
   "name": "python",
   "nbconvert_exporter": "python",
   "pygments_lexer": "ipython3",
   "version": "3.9.13"
  },
  "orig_nbformat": 4,
  "vscode": {
   "interpreter": {
    "hash": "964ae86e7d2a4d18eccf98c7c4024c79ec7ee490b0c5fee6bba2152d7a2aa697"
   }
  }
 },
 "nbformat": 4,
 "nbformat_minor": 2
}
