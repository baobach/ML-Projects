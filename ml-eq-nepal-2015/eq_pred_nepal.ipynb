{
 "cells": [
  {
   "cell_type": "code",
   "execution_count": 1,
   "metadata": {},
   "outputs": [],
   "source": [
    "# Import libraries\n",
    "import pandas as pd\n",
    "import numpy as np\n",
    "import warnings\n",
    "# SQL server connect\n",
    "import sqlite3\n",
    "# Plot data\n",
    "import matplotlib.pyplot as plt\n",
    "import seaborn as sns\n",
    "from IPython.display import display\n",
    "# Transfomer catergorical data\n",
    "from category_encoders import OneHotEncoder\n",
    "from sklearn.linear_model import LogisticRegression\n",
    "from sklearn.metrics import accuracy_score\n",
    "# Split train test randomly\n",
    "from sklearn.model_selection import train_test_split\n",
    "# Build data pipieline\n",
    "from sklearn.pipeline import Pipeline, make_pipeline\n",
    "from sklearn.utils.validation import check_is_fitted"
   ]
  },
  {
   "attachments": {},
   "cell_type": "markdown",
   "metadata": {},
   "source": [
    "# Import & EDA"
   ]
  },
  {
   "cell_type": "code",
   "execution_count": 2,
   "metadata": {},
   "outputs": [
    {
     "data": {
      "text/html": [
       "<div>\n",
       "<style scoped>\n",
       "    .dataframe tbody tr th:only-of-type {\n",
       "        vertical-align: middle;\n",
       "    }\n",
       "\n",
       "    .dataframe tbody tr th {\n",
       "        vertical-align: top;\n",
       "    }\n",
       "\n",
       "    .dataframe thead th {\n",
       "        text-align: right;\n",
       "    }\n",
       "</style>\n",
       "<table border=\"1\" class=\"dataframe\">\n",
       "  <thead>\n",
       "    <tr style=\"text-align: right;\">\n",
       "      <th></th>\n",
       "      <th>district_id</th>\n",
       "      <th>vdcmun_id</th>\n",
       "      <th>ward_id</th>\n",
       "      <th>count_floors_pre_eq</th>\n",
       "      <th>count_floors_post_eq</th>\n",
       "      <th>age_building</th>\n",
       "      <th>plinth_area_sq_ft</th>\n",
       "      <th>height_ft_pre_eq</th>\n",
       "      <th>height_ft_post_eq</th>\n",
       "      <th>land_surface_condition</th>\n",
       "      <th>...</th>\n",
       "      <th>has_superstructure_mud_mortar_brick</th>\n",
       "      <th>has_superstructure_cement_mortar_brick</th>\n",
       "      <th>has_superstructure_timber</th>\n",
       "      <th>has_superstructure_bamboo</th>\n",
       "      <th>has_superstructure_rc_non_engineered</th>\n",
       "      <th>has_superstructure_rc_engineered</th>\n",
       "      <th>has_superstructure_other</th>\n",
       "      <th>condition_post_eq</th>\n",
       "      <th>damage_grade</th>\n",
       "      <th>technical_solution_proposed</th>\n",
       "    </tr>\n",
       "    <tr>\n",
       "      <th>building_id</th>\n",
       "      <th></th>\n",
       "      <th></th>\n",
       "      <th></th>\n",
       "      <th></th>\n",
       "      <th></th>\n",
       "      <th></th>\n",
       "      <th></th>\n",
       "      <th></th>\n",
       "      <th></th>\n",
       "      <th></th>\n",
       "      <th></th>\n",
       "      <th></th>\n",
       "      <th></th>\n",
       "      <th></th>\n",
       "      <th></th>\n",
       "      <th></th>\n",
       "      <th></th>\n",
       "      <th></th>\n",
       "      <th></th>\n",
       "      <th></th>\n",
       "      <th></th>\n",
       "    </tr>\n",
       "  </thead>\n",
       "  <tbody>\n",
       "    <tr>\n",
       "      <th>120101000011</th>\n",
       "      <td>12</td>\n",
       "      <td>1207</td>\n",
       "      <td>120703</td>\n",
       "      <td>1</td>\n",
       "      <td>1</td>\n",
       "      <td>9</td>\n",
       "      <td>288</td>\n",
       "      <td>9</td>\n",
       "      <td>9</td>\n",
       "      <td>Flat</td>\n",
       "      <td>...</td>\n",
       "      <td>0</td>\n",
       "      <td>0</td>\n",
       "      <td>0</td>\n",
       "      <td>1</td>\n",
       "      <td>0</td>\n",
       "      <td>0</td>\n",
       "      <td>0</td>\n",
       "      <td>Damaged-Used in risk</td>\n",
       "      <td>Grade 3</td>\n",
       "      <td>Major repair</td>\n",
       "    </tr>\n",
       "    <tr>\n",
       "      <th>120101000021</th>\n",
       "      <td>12</td>\n",
       "      <td>1207</td>\n",
       "      <td>120703</td>\n",
       "      <td>1</td>\n",
       "      <td>1</td>\n",
       "      <td>15</td>\n",
       "      <td>364</td>\n",
       "      <td>9</td>\n",
       "      <td>9</td>\n",
       "      <td>Flat</td>\n",
       "      <td>...</td>\n",
       "      <td>0</td>\n",
       "      <td>0</td>\n",
       "      <td>0</td>\n",
       "      <td>1</td>\n",
       "      <td>0</td>\n",
       "      <td>0</td>\n",
       "      <td>0</td>\n",
       "      <td>Damaged-Repaired and used</td>\n",
       "      <td>Grade 5</td>\n",
       "      <td>Reconstruction</td>\n",
       "    </tr>\n",
       "    <tr>\n",
       "      <th>120101000031</th>\n",
       "      <td>12</td>\n",
       "      <td>1207</td>\n",
       "      <td>120703</td>\n",
       "      <td>1</td>\n",
       "      <td>1</td>\n",
       "      <td>20</td>\n",
       "      <td>384</td>\n",
       "      <td>9</td>\n",
       "      <td>9</td>\n",
       "      <td>Flat</td>\n",
       "      <td>...</td>\n",
       "      <td>0</td>\n",
       "      <td>0</td>\n",
       "      <td>0</td>\n",
       "      <td>0</td>\n",
       "      <td>0</td>\n",
       "      <td>0</td>\n",
       "      <td>0</td>\n",
       "      <td>Damaged-Repaired and used</td>\n",
       "      <td>Grade 2</td>\n",
       "      <td>Minor repair</td>\n",
       "    </tr>\n",
       "    <tr>\n",
       "      <th>120101000041</th>\n",
       "      <td>12</td>\n",
       "      <td>1207</td>\n",
       "      <td>120703</td>\n",
       "      <td>1</td>\n",
       "      <td>1</td>\n",
       "      <td>20</td>\n",
       "      <td>312</td>\n",
       "      <td>9</td>\n",
       "      <td>9</td>\n",
       "      <td>Flat</td>\n",
       "      <td>...</td>\n",
       "      <td>0</td>\n",
       "      <td>0</td>\n",
       "      <td>0</td>\n",
       "      <td>0</td>\n",
       "      <td>0</td>\n",
       "      <td>0</td>\n",
       "      <td>0</td>\n",
       "      <td>Damaged-Repaired and used</td>\n",
       "      <td>Grade 2</td>\n",
       "      <td>Minor repair</td>\n",
       "    </tr>\n",
       "    <tr>\n",
       "      <th>120101000051</th>\n",
       "      <td>12</td>\n",
       "      <td>1207</td>\n",
       "      <td>120703</td>\n",
       "      <td>1</td>\n",
       "      <td>1</td>\n",
       "      <td>30</td>\n",
       "      <td>308</td>\n",
       "      <td>9</td>\n",
       "      <td>9</td>\n",
       "      <td>Flat</td>\n",
       "      <td>...</td>\n",
       "      <td>0</td>\n",
       "      <td>0</td>\n",
       "      <td>0</td>\n",
       "      <td>0</td>\n",
       "      <td>0</td>\n",
       "      <td>0</td>\n",
       "      <td>0</td>\n",
       "      <td>Damaged-Repaired and used</td>\n",
       "      <td>Grade 1</td>\n",
       "      <td>Minor repair</td>\n",
       "    </tr>\n",
       "  </tbody>\n",
       "</table>\n",
       "<p>5 rows × 30 columns</p>\n",
       "</div>"
      ],
      "text/plain": [
       "              district_id  vdcmun_id  ward_id  count_floors_pre_eq  \\\n",
       "building_id                                                          \n",
       "120101000011           12       1207   120703                    1   \n",
       "120101000021           12       1207   120703                    1   \n",
       "120101000031           12       1207   120703                    1   \n",
       "120101000041           12       1207   120703                    1   \n",
       "120101000051           12       1207   120703                    1   \n",
       "\n",
       "              count_floors_post_eq  age_building  plinth_area_sq_ft  \\\n",
       "building_id                                                           \n",
       "120101000011                     1             9                288   \n",
       "120101000021                     1            15                364   \n",
       "120101000031                     1            20                384   \n",
       "120101000041                     1            20                312   \n",
       "120101000051                     1            30                308   \n",
       "\n",
       "              height_ft_pre_eq  height_ft_post_eq land_surface_condition  ...  \\\n",
       "building_id                                                               ...   \n",
       "120101000011                 9                  9                   Flat  ...   \n",
       "120101000021                 9                  9                   Flat  ...   \n",
       "120101000031                 9                  9                   Flat  ...   \n",
       "120101000041                 9                  9                   Flat  ...   \n",
       "120101000051                 9                  9                   Flat  ...   \n",
       "\n",
       "             has_superstructure_mud_mortar_brick  \\\n",
       "building_id                                        \n",
       "120101000011                                   0   \n",
       "120101000021                                   0   \n",
       "120101000031                                   0   \n",
       "120101000041                                   0   \n",
       "120101000051                                   0   \n",
       "\n",
       "             has_superstructure_cement_mortar_brick has_superstructure_timber  \\\n",
       "building_id                                                                     \n",
       "120101000011                                      0                         0   \n",
       "120101000021                                      0                         0   \n",
       "120101000031                                      0                         0   \n",
       "120101000041                                      0                         0   \n",
       "120101000051                                      0                         0   \n",
       "\n",
       "             has_superstructure_bamboo has_superstructure_rc_non_engineered  \\\n",
       "building_id                                                                   \n",
       "120101000011                         1                                    0   \n",
       "120101000021                         1                                    0   \n",
       "120101000031                         0                                    0   \n",
       "120101000041                         0                                    0   \n",
       "120101000051                         0                                    0   \n",
       "\n",
       "             has_superstructure_rc_engineered  has_superstructure_other  \\\n",
       "building_id                                                               \n",
       "120101000011                                0                         0   \n",
       "120101000021                                0                         0   \n",
       "120101000031                                0                         0   \n",
       "120101000041                                0                         0   \n",
       "120101000051                                0                         0   \n",
       "\n",
       "                      condition_post_eq  damage_grade  \\\n",
       "building_id                                             \n",
       "120101000011       Damaged-Used in risk       Grade 3   \n",
       "120101000021  Damaged-Repaired and used       Grade 5   \n",
       "120101000031  Damaged-Repaired and used       Grade 2   \n",
       "120101000041  Damaged-Repaired and used       Grade 2   \n",
       "120101000051  Damaged-Repaired and used       Grade 1   \n",
       "\n",
       "              technical_solution_proposed  \n",
       "building_id                                \n",
       "120101000011                 Major repair  \n",
       "120101000021               Reconstruction  \n",
       "120101000031                 Minor repair  \n",
       "120101000041                 Minor repair  \n",
       "120101000051                 Minor repair  \n",
       "\n",
       "[5 rows x 30 columns]"
      ]
     },
     "execution_count": 2,
     "metadata": {},
     "output_type": "execute_result"
    }
   ],
   "source": [
    "# Import data and start EDA\n",
    "df = pd.read_csv(\"csv_files/csv_building_structure.csv\").set_index(\"building_id\")\n",
    "df.head()"
   ]
  },
  {
   "attachments": {},
   "cell_type": "markdown",
   "metadata": {},
   "source": [
    "`damage_grade` is an importance feature to determine the damage of the building. I will clear null data in `damage_grade` column and process"
   ]
  },
  {
   "cell_type": "code",
   "execution_count": 3,
   "metadata": {},
   "outputs": [
    {
     "data": {
      "text/plain": [
       "12"
      ]
     },
     "execution_count": 3,
     "metadata": {},
     "output_type": "execute_result"
    }
   ],
   "source": [
    "# Find number of null values in damage grade\n",
    "df[\"damage_grade\"].isnull().sum()"
   ]
  },
  {
   "cell_type": "code",
   "execution_count": 4,
   "metadata": {},
   "outputs": [
    {
     "data": {
      "text/plain": [
       "0"
      ]
     },
     "execution_count": 4,
     "metadata": {},
     "output_type": "execute_result"
    }
   ],
   "source": [
    "# Drop nulls values\n",
    "df.dropna(subset=[\"damage_grade\"],inplace=True)\n",
    "df[\"damage_grade\"].isnull().sum()"
   ]
  },
  {
   "attachments": {},
   "cell_type": "markdown",
   "metadata": {},
   "source": [
    "Change `damage_grade` into binary cassification feature `severe_damage`"
   ]
  },
  {
   "cell_type": "code",
   "execution_count": 5,
   "metadata": {},
   "outputs": [
    {
     "name": "stdout",
     "output_type": "stream",
     "text": [
      "<class 'pandas.core.frame.DataFrame'>\n",
      "Int64Index: 762094 entries, 120101000011 to 366709001281\n",
      "Data columns (total 31 columns):\n",
      " #   Column                                  Non-Null Count   Dtype \n",
      "---  ------                                  --------------   ----- \n",
      " 0   district_id                             762094 non-null  int64 \n",
      " 1   vdcmun_id                               762094 non-null  int64 \n",
      " 2   ward_id                                 762094 non-null  int64 \n",
      " 3   count_floors_pre_eq                     762094 non-null  int64 \n",
      " 4   count_floors_post_eq                    762094 non-null  int64 \n",
      " 5   age_building                            762094 non-null  int64 \n",
      " 6   plinth_area_sq_ft                       762094 non-null  int64 \n",
      " 7   height_ft_pre_eq                        762094 non-null  int64 \n",
      " 8   height_ft_post_eq                       762094 non-null  int64 \n",
      " 9   land_surface_condition                  762094 non-null  object\n",
      " 10  foundation_type                         762094 non-null  object\n",
      " 11  roof_type                               762094 non-null  object\n",
      " 12  ground_floor_type                       762094 non-null  object\n",
      " 13  other_floor_type                        762094 non-null  object\n",
      " 14  position                                762094 non-null  object\n",
      " 15  plan_configuration                      762094 non-null  object\n",
      " 16  has_superstructure_adobe_mud            762094 non-null  int64 \n",
      " 17  has_superstructure_mud_mortar_stone     762094 non-null  int64 \n",
      " 18  has_superstructure_stone_flag           762094 non-null  int64 \n",
      " 19  has_superstructure_cement_mortar_stone  762094 non-null  int64 \n",
      " 20  has_superstructure_mud_mortar_brick     762094 non-null  int64 \n",
      " 21  has_superstructure_cement_mortar_brick  762094 non-null  int64 \n",
      " 22  has_superstructure_timber               762094 non-null  int64 \n",
      " 23  has_superstructure_bamboo               762094 non-null  int64 \n",
      " 24  has_superstructure_rc_non_engineered    762094 non-null  int64 \n",
      " 25  has_superstructure_rc_engineered        762094 non-null  int64 \n",
      " 26  has_superstructure_other                762094 non-null  int64 \n",
      " 27  condition_post_eq                       762094 non-null  object\n",
      " 28  damage_grade                            762094 non-null  int64 \n",
      " 29  technical_solution_proposed             762094 non-null  object\n",
      " 30  severe_damage                           762094 non-null  int64 \n",
      "dtypes: int64(22), object(9)\n",
      "memory usage: 186.1+ MB\n"
     ]
    }
   ],
   "source": [
    "# Use damage_grade to create classification feature\n",
    "df[\"damage_grade\"] = df[\"damage_grade\"].str[-1].astype(int)\n",
    "df[\"severe_damage\"] = (df[\"damage_grade\"]>3).astype(int)\n",
    "df.info()"
   ]
  },
  {
   "cell_type": "code",
   "execution_count": 6,
   "metadata": {},
   "outputs": [],
   "source": [
    "# Drop old column\n",
    "df.drop(columns=\"damage_grade\",inplace=True)"
   ]
  },
  {
   "attachments": {},
   "cell_type": "markdown",
   "metadata": {},
   "source": [
    "Find leakage in your data. These `post_eq` columns is a leakage and need to be drop"
   ]
  },
  {
   "cell_type": "code",
   "execution_count": 7,
   "metadata": {},
   "outputs": [],
   "source": [
    "# Identify leakage in data is `post_eq` columns\n",
    "drop_cols = [col for col in df.columns if \"post_eq\" in col]\n",
    "# technical_solution_proposed is a leak as well\n",
    "drop_cols.append(\"technical_solution_proposed\")\n",
    "# Drop all leak columns\n",
    "df.drop(columns=drop_cols,inplace=True)"
   ]
  },
  {
   "cell_type": "code",
   "execution_count": 8,
   "metadata": {},
   "outputs": [
    {
     "data": {
      "image/png": "[encoded data removed]",
      "text/plain": [
       "<Figure size 432x288 with 2 Axes>"
      ]
     },
     "metadata": {
      "needs_background": "light"
     },
     "output_type": "display_data"
    }
   ],
   "source": [
    "# Find high collinearity features\n",
    "correlation = df.select_dtypes(\"number\").drop(columns = \"severe_damage\").corr()\n",
    "sns.heatmap(correlation);"
   ]
  },
  {
   "cell_type": "code",
   "execution_count": 9,
   "metadata": {},
   "outputs": [
    {
     "data": {
      "text/plain": [
       "(0.04911364038144871, 0.16904872399965754)"
      ]
     },
     "execution_count": 9,
     "metadata": {},
     "output_type": "execute_result"
    }
   ],
   "source": [
    "h,f = df[\"severe_damage\"].corr(df[\"height_ft_pre_eq\"]), df[\"severe_damage\"].corr(df[\"count_floors_pre_eq\"])\n",
    "h,f"
   ]
  },
  {
   "attachments": {},
   "cell_type": "markdown",
   "metadata": {},
   "source": [
    "District vs vdcmun and ward are redundance information. `severe_damage` and `count_floors_pre_eq` are multicolinearity features. Using correlation with `severe_damage`, drop `height_ft_pre_eq`"
   ]
  },
  {
   "cell_type": "code",
   "execution_count": 10,
   "metadata": {},
   "outputs": [],
   "source": [
    "df.drop(columns=[\"height_ft_pre_eq\",\"district_id\",\"vdcmun_id\",\"ward_id\"], inplace=True)"
   ]
  },
  {
   "cell_type": "code",
   "execution_count": 11,
   "metadata": {},
   "outputs": [
    {
     "name": "stdout",
     "output_type": "stream",
     "text": [
      "<class 'pandas.core.frame.DataFrame'>\n",
      "Int64Index: 762094 entries, 120101000011 to 366709001281\n",
      "Data columns (total 22 columns):\n",
      " #   Column                                  Non-Null Count   Dtype \n",
      "---  ------                                  --------------   ----- \n",
      " 0   count_floors_pre_eq                     762094 non-null  int64 \n",
      " 1   age_building                            762094 non-null  int64 \n",
      " 2   plinth_area_sq_ft                       762094 non-null  int64 \n",
      " 3   land_surface_condition                  762094 non-null  object\n",
      " 4   foundation_type                         762094 non-null  object\n",
      " 5   roof_type                               762094 non-null  object\n",
      " 6   ground_floor_type                       762094 non-null  object\n",
      " 7   other_floor_type                        762094 non-null  object\n",
      " 8   position                                762094 non-null  object\n",
      " 9   plan_configuration                      762094 non-null  object\n",
      " 10  has_superstructure_adobe_mud            762094 non-null  int64 \n",
      " 11  has_superstructure_mud_mortar_stone     762094 non-null  int64 \n",
      " 12  has_superstructure_stone_flag           762094 non-null  int64 \n",
      " 13  has_superstructure_cement_mortar_stone  762094 non-null  int64 \n",
      " 14  has_superstructure_mud_mortar_brick     762094 non-null  int64 \n",
      " 15  has_superstructure_cement_mortar_brick  762094 non-null  int64 \n",
      " 16  has_superstructure_timber               762094 non-null  int64 \n",
      " 17  has_superstructure_bamboo               762094 non-null  int64 \n",
      " 18  has_superstructure_rc_non_engineered    762094 non-null  int64 \n",
      " 19  has_superstructure_rc_engineered        762094 non-null  int64 \n",
      " 20  has_superstructure_other                762094 non-null  int64 \n",
      " 21  severe_damage                           762094 non-null  int64 \n",
      "dtypes: int64(15), object(7)\n",
      "memory usage: 133.7+ MB\n"
     ]
    }
   ],
   "source": [
    "df.info()"
   ]
  },
  {
   "attachments": {},
   "cell_type": "markdown",
   "metadata": {},
   "source": [
    "# Explore"
   ]
  },
  {
   "cell_type": "code",
   "execution_count": 12,
   "metadata": {},
   "outputs": [
    {
     "data": {
      "image/png": "[encoded data removed]",
      "text/plain": [
       "<Figure size 432x288 with 1 Axes>"
      ]
     },
     "metadata": {
      "needs_background": "light"
     },
     "output_type": "display_data"
    }
   ],
   "source": [
    "# Plot to check the class balance\n",
    "df[\"severe_damage\"].value_counts(normalize=True).plot(\n",
    "    kind=\"bar\",\n",
    "    xlabel = \"Severe Damage\",\n",
    "    ylabel = \"Relative Frequency\",\n",
    "    title = \"Nepal 2015\"\n",
    ");"
   ]
  },
  {
   "cell_type": "code",
   "execution_count": 13,
   "metadata": {},
   "outputs": [
    {
     "data": {
      "text/plain": [
       "1    0.603088\n",
       "0    0.396912\n",
       "Name: severe_damage, dtype: float64"
      ]
     },
     "execution_count": 13,
     "metadata": {},
     "output_type": "execute_result"
    }
   ],
   "source": [
    "df[\"severe_damage\"].value_counts(normalize=True)"
   ]
  },
  {
   "attachments": {},
   "cell_type": "markdown",
   "metadata": {},
   "source": [
    "# Split"
   ]
  },
  {
   "cell_type": "code",
   "execution_count": 14,
   "metadata": {},
   "outputs": [
    {
     "name": "stdout",
     "output_type": "stream",
     "text": [
      "X shape: (762094, 21)\n",
      "y shape: (762094,)\n"
     ]
    }
   ],
   "source": [
    "target = \"severe_damage\"\n",
    "X = df.drop(columns=target)\n",
    "y = df[target]\n",
    "print(\"X shape:\", X.shape)\n",
    "print(\"y shape:\", y.shape)"
   ]
  },
  {
   "cell_type": "code",
   "execution_count": 15,
   "metadata": {},
   "outputs": [
    {
     "name": "stdout",
     "output_type": "stream",
     "text": [
      "X_train shape: (609675, 21)\n",
      "y_train shape: (609675,)\n",
      "X_test shape: (152419, 21)\n",
      "y_test shape: (152419,)\n"
     ]
    }
   ],
   "source": [
    "X_train, X_test, y_train, y_test = train_test_split(X,y,test_size=0.2,random_state=42)\n",
    "print(\"X_train shape:\", X_train.shape)\n",
    "print(\"y_train shape:\", y_train.shape)\n",
    "print(\"X_test shape:\", X_test.shape)\n",
    "print(\"y_test shape:\", y_test.shape)"
   ]
  },
  {
   "cell_type": "code",
   "execution_count": 16,
   "metadata": {},
   "outputs": [
    {
     "name": "stdout",
     "output_type": "stream",
     "text": [
      "X_train shape: (487740, 21)\n",
      "y_train shape: (487740,)\n",
      "X_val shape: (121935, 21)\n",
      "y_val shape: (121935,)\n"
     ]
    }
   ],
   "source": [
    "X_train, X_val, y_train, y_val = train_test_split(X_train,y_train,test_size=0.2,random_state=42)\n",
    "print(\"X_train shape:\", X_train.shape)\n",
    "print(\"y_train shape:\", y_train.shape)\n",
    "print(\"X_val shape:\", X_val.shape)\n",
    "print(\"y_val shape:\", y_val.shape)"
   ]
  },
  {
   "attachments": {},
   "cell_type": "markdown",
   "metadata": {},
   "source": [
    "# Build model"
   ]
  },
  {
   "attachments": {},
   "cell_type": "markdown",
   "metadata": {},
   "source": [
    "## Create baseline model"
   ]
  },
  {
   "cell_type": "code",
   "execution_count": 17,
   "metadata": {},
   "outputs": [
    {
     "name": "stdout",
     "output_type": "stream",
     "text": [
      "Baseline Accuracy: 0.6\n"
     ]
    }
   ],
   "source": [
    "acc_baseline = y_train.value_counts(normalize=True).max()\n",
    "print(\"Baseline Accuracy:\", round(acc_baseline, 2))"
   ]
  },
  {
   "cell_type": "code",
   "execution_count": 18,
   "metadata": {},
   "outputs": [
    {
     "data": {
      "text/html": [
       "<style>#sk-container-id-1 {color: black;background-color: white;}#sk-container-id-1 pre{padding: 0;}#sk-container-id-1 div.sk-toggleable {background-color: white;}#sk-container-id-1 label.sk-toggleable__label {cursor: pointer;display: block;width: 100%;margin-bottom: 0;padding: 0.3em;box-sizing: border-box;text-align: center;}#sk-container-id-1 label.sk-toggleable__label-arrow:before {content: \"▸\";float: left;margin-right: 0.25em;color: #696969;}#sk-container-id-1 label.sk-toggleable__label-arrow:hover:before {color: black;}#sk-container-id-1 div.sk-estimator:hover label.sk-toggleable__label-arrow:before {color: black;}#sk-container-id-1 div.sk-toggleable__content {max-height: 0;max-width: 0;overflow: hidden;text-align: left;background-color: #f0f8ff;}#sk-container-id-1 div.sk-toggleable__content pre {margin: 0.2em;color: black;border-radius: 0.25em;background-color: #f0f8ff;}#sk-container-id-1 input.sk-toggleable__control:checked~div.sk-toggleable__content {max-height: 200px;max-width: 100%;overflow: auto;}#sk-container-id-1 input.sk-toggleable__control:checked~label.sk-toggleable__label-arrow:before {content: \"▾\";}#sk-container-id-1 div.sk-estimator input.sk-toggleable__control:checked~label.sk-toggleable__label {background-color: #d4ebff;}#sk-container-id-1 div.sk-label input.sk-toggleable__control:checked~label.sk-toggleable__label {background-color: #d4ebff;}#sk-container-id-1 input.sk-hidden--visually {border: 0;clip: rect(1px 1px 1px 1px);clip: rect(1px, 1px, 1px, 1px);height: 1px;margin: -1px;overflow: hidden;padding: 0;position: absolute;width: 1px;}#sk-container-id-1 div.sk-estimator {font-family: monospace;background-color: #f0f8ff;border: 1px dotted black;border-radius: 0.25em;box-sizing: border-box;margin-bottom: 0.5em;}#sk-container-id-1 div.sk-estimator:hover {background-color: #d4ebff;}#sk-container-id-1 div.sk-parallel-item::after {content: \"\";width: 100%;border-bottom: 1px solid gray;flex-grow: 1;}#sk-container-id-1 div.sk-label:hover label.sk-toggleable__label {background-color: #d4ebff;}#sk-container-id-1 div.sk-serial::before {content: \"\";position: absolute;border-left: 1px solid gray;box-sizing: border-box;top: 0;bottom: 0;left: 50%;z-index: 0;}#sk-container-id-1 div.sk-serial {display: flex;flex-direction: column;align-items: center;background-color: white;padding-right: 0.2em;padding-left: 0.2em;position: relative;}#sk-container-id-1 div.sk-item {position: relative;z-index: 1;}#sk-container-id-1 div.sk-parallel {display: flex;align-items: stretch;justify-content: center;background-color: white;position: relative;}#sk-container-id-1 div.sk-item::before, #sk-container-id-1 div.sk-parallel-item::before {content: \"\";position: absolute;border-left: 1px solid gray;box-sizing: border-box;top: 0;bottom: 0;left: 50%;z-index: -1;}#sk-container-id-1 div.sk-parallel-item {display: flex;flex-direction: column;z-index: 1;position: relative;background-color: white;}#sk-container-id-1 div.sk-parallel-item:first-child::after {align-self: flex-end;width: 50%;}#sk-container-id-1 div.sk-parallel-item:last-child::after {align-self: flex-start;width: 50%;}#sk-container-id-1 div.sk-parallel-item:only-child::after {width: 0;}#sk-container-id-1 div.sk-dashed-wrapped {border: 1px dashed gray;margin: 0 0.4em 0.5em 0.4em;box-sizing: border-box;padding-bottom: 0.4em;background-color: white;}#sk-container-id-1 div.sk-label label {font-family: monospace;font-weight: bold;display: inline-block;line-height: 1.2em;}#sk-container-id-1 div.sk-label-container {text-align: center;}#sk-container-id-1 div.sk-container {/* jupyter's `normalize.less` sets `[hidden] { display: none; }` but bootstrap.min.css set `[hidden] { display: none !important; }` so we also need the `!important` here to be able to override the default hidden behavior on the sphinx rendered scikit-learn.org. See: https://github.com/scikit-learn/scikit-learn/issues/21755 */display: inline-block !important;position: relative;}#sk-container-id-1 div.sk-text-repr-fallback {display: none;}</style><div id=\"sk-container-id-1\" class=\"sk-top-container\"><div class=\"sk-text-repr-fallback\"><pre>Pipeline(steps=[(&#x27;onehotencoder&#x27;,\n",
       "                 OneHotEncoder(cols=[&#x27;land_surface_condition&#x27;,\n",
       "                                     &#x27;foundation_type&#x27;, &#x27;roof_type&#x27;,\n",
       "                                     &#x27;ground_floor_type&#x27;, &#x27;other_floor_type&#x27;,\n",
       "                                     &#x27;position&#x27;, &#x27;plan_configuration&#x27;],\n",
       "                               use_cat_names=True)),\n",
       "                (&#x27;logisticregression&#x27;, LogisticRegression(max_iter=1000))])</pre><b>In a Jupyter environment, please rerun this cell to show the HTML representation or trust the notebook. <br />On GitHub, the HTML representation is unable to render, please try loading this page with nbviewer.org.</b></div><div class=\"sk-container\" hidden><div class=\"sk-item sk-dashed-wrapped\"><div class=\"sk-label-container\"><div class=\"sk-label sk-toggleable\"><input class=\"sk-toggleable__control sk-hidden--visually\" id=\"sk-estimator-id-1\" type=\"checkbox\" ><label for=\"sk-estimator-id-1\" class=\"sk-toggleable__label sk-toggleable__label-arrow\">Pipeline</label><div class=\"sk-toggleable__content\"><pre>Pipeline(steps=[(&#x27;onehotencoder&#x27;,\n",
       "                 OneHotEncoder(cols=[&#x27;land_surface_condition&#x27;,\n",
       "                                     &#x27;foundation_type&#x27;, &#x27;roof_type&#x27;,\n",
       "                                     &#x27;ground_floor_type&#x27;, &#x27;other_floor_type&#x27;,\n",
       "                                     &#x27;position&#x27;, &#x27;plan_configuration&#x27;],\n",
       "                               use_cat_names=True)),\n",
       "                (&#x27;logisticregression&#x27;, LogisticRegression(max_iter=1000))])</pre></div></div></div><div class=\"sk-serial\"><div class=\"sk-item\"><div class=\"sk-estimator sk-toggleable\"><input class=\"sk-toggleable__control sk-hidden--visually\" id=\"sk-estimator-id-2\" type=\"checkbox\" ><label for=\"sk-estimator-id-2\" class=\"sk-toggleable__label sk-toggleable__label-arrow\">OneHotEncoder</label><div class=\"sk-toggleable__content\"><pre>OneHotEncoder(cols=[&#x27;land_surface_condition&#x27;, &#x27;foundation_type&#x27;, &#x27;roof_type&#x27;,\n",
       "                    &#x27;ground_floor_type&#x27;, &#x27;other_floor_type&#x27;, &#x27;position&#x27;,\n",
       "                    &#x27;plan_configuration&#x27;],\n",
       "              use_cat_names=True)</pre></div></div></div><div class=\"sk-item\"><div class=\"sk-estimator sk-toggleable\"><input class=\"sk-toggleable__control sk-hidden--visually\" id=\"sk-estimator-id-3\" type=\"checkbox\" ><label for=\"sk-estimator-id-3\" class=\"sk-toggleable__label sk-toggleable__label-arrow\">LogisticRegression</label><div class=\"sk-toggleable__content\"><pre>LogisticRegression(max_iter=1000)</pre></div></div></div></div></div></div></div>"
      ],
      "text/plain": [
       "Pipeline(steps=[('onehotencoder',\n",
       "                 OneHotEncoder(cols=['land_surface_condition',\n",
       "                                     'foundation_type', 'roof_type',\n",
       "                                     'ground_floor_type', 'other_floor_type',\n",
       "                                     'position', 'plan_configuration'],\n",
       "                               use_cat_names=True)),\n",
       "                ('logisticregression', LogisticRegression(max_iter=1000))])"
      ]
     },
     "execution_count": 18,
     "metadata": {},
     "output_type": "execute_result"
    }
   ],
   "source": [
    "model_lr = make_pipeline(\n",
    "    OneHotEncoder(use_cat_names=True),\n",
    "    LogisticRegression(max_iter=1000)\n",
    ")\n",
    "model_lr.fit(X_train,y_train)"
   ]
  },
  {
   "attachments": {},
   "cell_type": "markdown",
   "metadata": {},
   "source": [
    "Evaluate Logistic Regression model"
   ]
  },
  {
   "cell_type": "code",
   "execution_count": 19,
   "metadata": {},
   "outputs": [
    {
     "name": "stdout",
     "output_type": "stream",
     "text": [
      "Logistic Regression, Training Accuracy Score: 0.7319145446344364\n",
      "Logistic Regression, Validation Accuracy Score: 0.7299216795833846\n"
     ]
    }
   ],
   "source": [
    "lr_train_acc = model_lr.score(X_train,y_train)\n",
    "lr_val_acc = model_lr.score(X_val,y_val)\n",
    "\n",
    "print(\"Logistic Regression, Training Accuracy Score:\", lr_train_acc)\n",
    "print(\"Logistic Regression, Validation Accuracy Score:\", lr_val_acc)"
   ]
  },
  {
   "attachments": {},
   "cell_type": "markdown",
   "metadata": {},
   "source": [
    "Using Decision Tree to find if we can improve accuracy score"
   ]
  },
  {
   "cell_type": "code",
   "execution_count": 20,
   "metadata": {},
   "outputs": [
    {
     "name": "stdout",
     "output_type": "stream",
     "text": [
      "Training Accuracy Scores: [0.714843974248575, 0.729556731045229, 0.7300775003075409]\n",
      "Validation Accuracy Scores: [0.7138557428137943, 0.727715586172961, 0.7281666461639398]\n"
     ]
    }
   ],
   "source": [
    "from category_encoders import OrdinalEncoder\n",
    "from sklearn.tree import DecisionTreeClassifier, plot_tree\n",
    "\n",
    "depth_hyperparams = range(1, 16)\n",
    "training_acc = []\n",
    "validation_acc = []\n",
    "for d in depth_hyperparams:\n",
    "    model_dt = make_pipeline(\n",
    "        OrdinalEncoder(),\n",
    "        DecisionTreeClassifier(max_depth=d ,random_state=42)\n",
    "    )\n",
    "    model_dt.fit(X_train, y_train)\n",
    "    training_acc.append(model_dt.score(X_train, y_train))\n",
    "    validation_acc.append(model_dt.score(X_val, y_val))\n",
    "\n",
    "print(\"Training Accuracy Scores:\", training_acc[:3])\n",
    "print(\"Validation Accuracy Scores:\", validation_acc[:3])"
   ]
  },
  {
   "attachments": {},
   "cell_type": "markdown",
   "metadata": {},
   "source": [
    "Plot the result"
   ]
  },
  {
   "cell_type": "code",
   "execution_count": 21,
   "metadata": {},
   "outputs": [
    {
     "data": {
      "image/png": "[encoded data removed]",
      "text/plain": [
       "<Figure size 432x288 with 1 Axes>"
      ]
     },
     "metadata": {
      "needs_background": "light"
     },
     "output_type": "display_data"
    }
   ],
   "source": [
    "plt.plot(depth_hyperparams, training_acc, label=\"training\")\n",
    "plt.plot(depth_hyperparams, validation_acc, label=\"validation\")\n",
    "plt.xlabel(\"Max Depth\")\n",
    "plt.ylabel(\"Accuracy Score\")\n",
    "plt.title(\"Validation Curve, Decision Tree Model\");"
   ]
  },
  {
   "attachments": {},
   "cell_type": "markdown",
   "metadata": {},
   "source": [
    "Divergent at `max_depth` 2 to 4. Let's go with 4"
   ]
  },
  {
   "cell_type": "code",
   "execution_count": 27,
   "metadata": {},
   "outputs": [
    {
     "data": {
      "text/html": [
       "<style>#sk-container-id-3 {color: black;background-color: white;}#sk-container-id-3 pre{padding: 0;}#sk-container-id-3 div.sk-toggleable {background-color: white;}#sk-container-id-3 label.sk-toggleable__label {cursor: pointer;display: block;width: 100%;margin-bottom: 0;padding: 0.3em;box-sizing: border-box;text-align: center;}#sk-container-id-3 label.sk-toggleable__label-arrow:before {content: \"▸\";float: left;margin-right: 0.25em;color: #696969;}#sk-container-id-3 label.sk-toggleable__label-arrow:hover:before {color: black;}#sk-container-id-3 div.sk-estimator:hover label.sk-toggleable__label-arrow:before {color: black;}#sk-container-id-3 div.sk-toggleable__content {max-height: 0;max-width: 0;overflow: hidden;text-align: left;background-color: #f0f8ff;}#sk-container-id-3 div.sk-toggleable__content pre {margin: 0.2em;color: black;border-radius: 0.25em;background-color: #f0f8ff;}#sk-container-id-3 input.sk-toggleable__control:checked~div.sk-toggleable__content {max-height: 200px;max-width: 100%;overflow: auto;}#sk-container-id-3 input.sk-toggleable__control:checked~label.sk-toggleable__label-arrow:before {content: \"▾\";}#sk-container-id-3 div.sk-estimator input.sk-toggleable__control:checked~label.sk-toggleable__label {background-color: #d4ebff;}#sk-container-id-3 div.sk-label input.sk-toggleable__control:checked~label.sk-toggleable__label {background-color: #d4ebff;}#sk-container-id-3 input.sk-hidden--visually {border: 0;clip: rect(1px 1px 1px 1px);clip: rect(1px, 1px, 1px, 1px);height: 1px;margin: -1px;overflow: hidden;padding: 0;position: absolute;width: 1px;}#sk-container-id-3 div.sk-estimator {font-family: monospace;background-color: #f0f8ff;border: 1px dotted black;border-radius: 0.25em;box-sizing: border-box;margin-bottom: 0.5em;}#sk-container-id-3 div.sk-estimator:hover {background-color: #d4ebff;}#sk-container-id-3 div.sk-parallel-item::after {content: \"\";width: 100%;border-bottom: 1px solid gray;flex-grow: 1;}#sk-container-id-3 div.sk-label:hover label.sk-toggleable__label {background-color: #d4ebff;}#sk-container-id-3 div.sk-serial::before {content: \"\";position: absolute;border-left: 1px solid gray;box-sizing: border-box;top: 0;bottom: 0;left: 50%;z-index: 0;}#sk-container-id-3 div.sk-serial {display: flex;flex-direction: column;align-items: center;background-color: white;padding-right: 0.2em;padding-left: 0.2em;position: relative;}#sk-container-id-3 div.sk-item {position: relative;z-index: 1;}#sk-container-id-3 div.sk-parallel {display: flex;align-items: stretch;justify-content: center;background-color: white;position: relative;}#sk-container-id-3 div.sk-item::before, #sk-container-id-3 div.sk-parallel-item::before {content: \"\";position: absolute;border-left: 1px solid gray;box-sizing: border-box;top: 0;bottom: 0;left: 50%;z-index: -1;}#sk-container-id-3 div.sk-parallel-item {display: flex;flex-direction: column;z-index: 1;position: relative;background-color: white;}#sk-container-id-3 div.sk-parallel-item:first-child::after {align-self: flex-end;width: 50%;}#sk-container-id-3 div.sk-parallel-item:last-child::after {align-self: flex-start;width: 50%;}#sk-container-id-3 div.sk-parallel-item:only-child::after {width: 0;}#sk-container-id-3 div.sk-dashed-wrapped {border: 1px dashed gray;margin: 0 0.4em 0.5em 0.4em;box-sizing: border-box;padding-bottom: 0.4em;background-color: white;}#sk-container-id-3 div.sk-label label {font-family: monospace;font-weight: bold;display: inline-block;line-height: 1.2em;}#sk-container-id-3 div.sk-label-container {text-align: center;}#sk-container-id-3 div.sk-container {/* jupyter's `normalize.less` sets `[hidden] { display: none; }` but bootstrap.min.css set `[hidden] { display: none !important; }` so we also need the `!important` here to be able to override the default hidden behavior on the sphinx rendered scikit-learn.org. See: https://github.com/scikit-learn/scikit-learn/issues/21755 */display: inline-block !important;position: relative;}#sk-container-id-3 div.sk-text-repr-fallback {display: none;}</style><div id=\"sk-container-id-3\" class=\"sk-top-container\"><div class=\"sk-text-repr-fallback\"><pre>Pipeline(steps=[(&#x27;ordinalencoder&#x27;,\n",
       "                 OrdinalEncoder(cols=[&#x27;land_surface_condition&#x27;,\n",
       "                                      &#x27;foundation_type&#x27;, &#x27;roof_type&#x27;,\n",
       "                                      &#x27;ground_floor_type&#x27;, &#x27;other_floor_type&#x27;,\n",
       "                                      &#x27;position&#x27;, &#x27;plan_configuration&#x27;],\n",
       "                                mapping=[{&#x27;col&#x27;: &#x27;land_surface_condition&#x27;,\n",
       "                                          &#x27;data_type&#x27;: dtype(&#x27;O&#x27;),\n",
       "                                          &#x27;mapping&#x27;: Flat              1\n",
       "Moderate slope    2\n",
       "Steep slope       3\n",
       "NaN              -2\n",
       "dtype: int64},\n",
       "                                         {&#x27;col&#x27;: &#x27;foundation_type&#x27;,\n",
       "                                          &#x27;data_type&#x27;: dtype(&#x27;O&#x27;...\n",
       "                                          &#x27;mapping&#x27;: Not attached       1\n",
       "Attached-1 side    2\n",
       "Attached-2 side    3\n",
       "Attached-3 side    4\n",
       "NaN               -2\n",
       "dtype: int64},\n",
       "                                         {&#x27;col&#x27;: &#x27;plan_configuration&#x27;,\n",
       "                                          &#x27;data_type&#x27;: dtype(&#x27;O&#x27;),\n",
       "                                          &#x27;mapping&#x27;: Rectangular                         1\n",
       "L-shape                             2\n",
       "Square                              3\n",
       "Multi-projected                     4\n",
       "Others                              5\n",
       "T-shape                             6\n",
       "U-shape                             7\n",
       "E-shape                             8\n",
       "Building with Central Courtyard     9\n",
       "H-shape                            10\n",
       "NaN                                -2\n",
       "dtype: int64}])),\n",
       "                (&#x27;decisiontreeclassifier&#x27;,\n",
       "                 DecisionTreeClassifier(max_depth=12, random_state=42))])</pre><b>In a Jupyter environment, please rerun this cell to show the HTML representation or trust the notebook. <br />On GitHub, the HTML representation is unable to render, please try loading this page with nbviewer.org.</b></div><div class=\"sk-container\" hidden><div class=\"sk-item sk-dashed-wrapped\"><div class=\"sk-label-container\"><div class=\"sk-label sk-toggleable\"><input class=\"sk-toggleable__control sk-hidden--visually\" id=\"sk-estimator-id-7\" type=\"checkbox\" ><label for=\"sk-estimator-id-7\" class=\"sk-toggleable__label sk-toggleable__label-arrow\">Pipeline</label><div class=\"sk-toggleable__content\"><pre>Pipeline(steps=[(&#x27;ordinalencoder&#x27;,\n",
       "                 OrdinalEncoder(cols=[&#x27;land_surface_condition&#x27;,\n",
       "                                      &#x27;foundation_type&#x27;, &#x27;roof_type&#x27;,\n",
       "                                      &#x27;ground_floor_type&#x27;, &#x27;other_floor_type&#x27;,\n",
       "                                      &#x27;position&#x27;, &#x27;plan_configuration&#x27;],\n",
       "                                mapping=[{&#x27;col&#x27;: &#x27;land_surface_condition&#x27;,\n",
       "                                          &#x27;data_type&#x27;: dtype(&#x27;O&#x27;),\n",
       "                                          &#x27;mapping&#x27;: Flat              1\n",
       "Moderate slope    2\n",
       "Steep slope       3\n",
       "NaN              -2\n",
       "dtype: int64},\n",
       "                                         {&#x27;col&#x27;: &#x27;foundation_type&#x27;,\n",
       "                                          &#x27;data_type&#x27;: dtype(&#x27;O&#x27;...\n",
       "                                          &#x27;mapping&#x27;: Not attached       1\n",
       "Attached-1 side    2\n",
       "Attached-2 side    3\n",
       "Attached-3 side    4\n",
       "NaN               -2\n",
       "dtype: int64},\n",
       "                                         {&#x27;col&#x27;: &#x27;plan_configuration&#x27;,\n",
       "                                          &#x27;data_type&#x27;: dtype(&#x27;O&#x27;),\n",
       "                                          &#x27;mapping&#x27;: Rectangular                         1\n",
       "L-shape                             2\n",
       "Square                              3\n",
       "Multi-projected                     4\n",
       "Others                              5\n",
       "T-shape                             6\n",
       "U-shape                             7\n",
       "E-shape                             8\n",
       "Building with Central Courtyard     9\n",
       "H-shape                            10\n",
       "NaN                                -2\n",
       "dtype: int64}])),\n",
       "                (&#x27;decisiontreeclassifier&#x27;,\n",
       "                 DecisionTreeClassifier(max_depth=12, random_state=42))])</pre></div></div></div><div class=\"sk-serial\"><div class=\"sk-item\"><div class=\"sk-estimator sk-toggleable\"><input class=\"sk-toggleable__control sk-hidden--visually\" id=\"sk-estimator-id-8\" type=\"checkbox\" ><label for=\"sk-estimator-id-8\" class=\"sk-toggleable__label sk-toggleable__label-arrow\">OrdinalEncoder</label><div class=\"sk-toggleable__content\"><pre>OrdinalEncoder(cols=[&#x27;land_surface_condition&#x27;, &#x27;foundation_type&#x27;, &#x27;roof_type&#x27;,\n",
       "                     &#x27;ground_floor_type&#x27;, &#x27;other_floor_type&#x27;, &#x27;position&#x27;,\n",
       "                     &#x27;plan_configuration&#x27;],\n",
       "               mapping=[{&#x27;col&#x27;: &#x27;land_surface_condition&#x27;,\n",
       "                         &#x27;data_type&#x27;: dtype(&#x27;O&#x27;),\n",
       "                         &#x27;mapping&#x27;: Flat              1\n",
       "Moderate slope    2\n",
       "Steep slope       3\n",
       "NaN              -2\n",
       "dtype: int64},\n",
       "                        {&#x27;col&#x27;: &#x27;foundation_type&#x27;, &#x27;data_type&#x27;: dtype(&#x27;O&#x27;),\n",
       "                         &#x27;mapping&#x27;: Cement-Stone/Brick        1\n",
       "Mud...\n",
       "Not applicable       3\n",
       "RCC/RB/RBC           4\n",
       "NaN                 -2\n",
       "dtype: int64},\n",
       "                        {&#x27;col&#x27;: &#x27;position&#x27;, &#x27;data_type&#x27;: dtype(&#x27;O&#x27;),\n",
       "                         &#x27;mapping&#x27;: Not attached       1\n",
       "Attached-1 side    2\n",
       "Attached-2 side    3\n",
       "Attached-3 side    4\n",
       "NaN               -2\n",
       "dtype: int64},\n",
       "                        {&#x27;col&#x27;: &#x27;plan_configuration&#x27;, &#x27;data_type&#x27;: dtype(&#x27;O&#x27;),\n",
       "                         &#x27;mapping&#x27;: Rectangular                         1\n",
       "L-shape                             2\n",
       "Square                              3\n",
       "Multi-projected                     4\n",
       "Others                              5\n",
       "T-shape                             6\n",
       "U-shape                             7\n",
       "E-shape                             8\n",
       "Building with Central Courtyard     9\n",
       "H-shape                            10\n",
       "NaN                                -2\n",
       "dtype: int64}])</pre></div></div></div><div class=\"sk-item\"><div class=\"sk-estimator sk-toggleable\"><input class=\"sk-toggleable__control sk-hidden--visually\" id=\"sk-estimator-id-9\" type=\"checkbox\" ><label for=\"sk-estimator-id-9\" class=\"sk-toggleable__label sk-toggleable__label-arrow\">DecisionTreeClassifier</label><div class=\"sk-toggleable__content\"><pre>DecisionTreeClassifier(max_depth=12, random_state=42)</pre></div></div></div></div></div></div></div>"
      ],
      "text/plain": [
       "Pipeline(steps=[('ordinalencoder',\n",
       "                 OrdinalEncoder(cols=['land_surface_condition',\n",
       "                                      'foundation_type', 'roof_type',\n",
       "                                      'ground_floor_type', 'other_floor_type',\n",
       "                                      'position', 'plan_configuration'],\n",
       "                                mapping=[{'col': 'land_surface_condition',\n",
       "                                          'data_type': dtype('O'),\n",
       "                                          'mapping': Flat              1\n",
       "Moderate slope    2\n",
       "Steep slope       3\n",
       "NaN              -2\n",
       "dtype: int64},\n",
       "                                         {'col': 'foundation_type',\n",
       "                                          'data_type': dtype('O'...\n",
       "                                          'mapping': Not attached       1\n",
       "Attached-1 side    2\n",
       "Attached-2 side    3\n",
       "Attached-3 side    4\n",
       "NaN               -2\n",
       "dtype: int64},\n",
       "                                         {'col': 'plan_configuration',\n",
       "                                          'data_type': dtype('O'),\n",
       "                                          'mapping': Rectangular                         1\n",
       "L-shape                             2\n",
       "Square                              3\n",
       "Multi-projected                     4\n",
       "Others                              5\n",
       "T-shape                             6\n",
       "U-shape                             7\n",
       "E-shape                             8\n",
       "Building with Central Courtyard     9\n",
       "H-shape                            10\n",
       "NaN                                -2\n",
       "dtype: int64}])),\n",
       "                ('decisiontreeclassifier',\n",
       "                 DecisionTreeClassifier(max_depth=12, random_state=42))])"
      ]
     },
     "execution_count": 27,
     "metadata": {},
     "output_type": "execute_result"
    }
   ],
   "source": [
    "final_model_dt = make_pipeline(\n",
    "        OrdinalEncoder(),\n",
    "        DecisionTreeClassifier(max_depth=12 ,random_state=42)\n",
    "    )\n",
    "final_model_dt.fit(X_train, y_train)"
   ]
  },
  {
   "cell_type": "code",
   "execution_count": 28,
   "metadata": {},
   "outputs": [
    {
     "name": "stdout",
     "output_type": "stream",
     "text": [
      "Logicstics Regression Accuracy Scores: 0.7307094259901981\n",
      "Decision Tree Accuracy Scores: 0.7360040414908903\n"
     ]
    }
   ],
   "source": [
    "# Test the model\n",
    "lr_acc= model_lr.score(X_test,y_test)\n",
    "dt_acc= final_model_dt.score(X_test,y_test)\n",
    "print(\"Logicstics Regression Accuracy Scores:\", lr_acc)\n",
    "print(\"Decision Tree Accuracy Scores:\", dt_acc)"
   ]
  },
  {
   "attachments": {},
   "cell_type": "markdown",
   "metadata": {},
   "source": [
    "# Communicating Results"
   ]
  },
  {
   "attachments": {},
   "cell_type": "markdown",
   "metadata": {},
   "source": [
    "Since both model perform quite well. We can stick to LR model for simplicity"
   ]
  },
  {
   "cell_type": "code",
   "execution_count": 24,
   "metadata": {},
   "outputs": [
    {
     "data": {
      "text/plain": [
       "has_superstructure_cement_mortar_brick    0.328695\n",
       "roof_type_RCC/RB/RBC                      0.443578\n",
       "foundation_type_RC                        0.465793\n",
       "ground_floor_type_RC                      0.489905\n",
       "foundation_type_Bamboo/Timber             0.508504\n",
       "dtype: float64"
      ]
     },
     "execution_count": 24,
     "metadata": {},
     "output_type": "execute_result"
    }
   ],
   "source": [
    "features = model_lr.named_steps[\"onehotencoder\"].get_feature_names()\n",
    "importances = model_lr.named_steps[\"logisticregression\"].coef_[0]\n",
    "feat_imp = pd.Series(np.exp(importances), index=features).sort_values()\n",
    "feat_imp.head()"
   ]
  },
  {
   "attachments": {},
   "cell_type": "markdown",
   "metadata": {},
   "source": [
    "These are most importance features"
   ]
  },
  {
   "cell_type": "code",
   "execution_count": 29,
   "metadata": {},
   "outputs": [
    {
     "data": {
      "image/png": "[encoded data removed]",
      "text/plain": [
       "<Figure size 432x288 with 1 Axes>"
      ]
     },
     "metadata": {
      "needs_background": "light"
     },
     "output_type": "display_data"
    }
   ],
   "source": [
    "feat_imp.tail().plot(kind=\"barh\")\n",
    "plt.xlabel(\"Odds Ratio\");"
   ]
  },
  {
   "attachments": {},
   "cell_type": "markdown",
   "metadata": {},
   "source": [
    "# Conclusion"
   ]
  },
  {
   "attachments": {},
   "cell_type": "markdown",
   "metadata": {},
   "source": [
    "Our model is successful predict the building damage condition with 73% accuracy."
   ]
  }
 ],
 "metadata": {
  "kernelspec": {
   "display_name": "base",
   "language": "python",
   "name": "python3"
  },
  "language_info": {
   "codemirror_mode": {
    "name": "ipython",
    "version": 3
   },
   "file_extension": ".py",
   "mimetype": "text/x-python",
   "name": "python",
   "nbconvert_exporter": "python",
   "pygments_lexer": "ipython3",
   "version": "3.9.7"
  },
  "orig_nbformat": 4,
  "vscode": {
   "interpreter": {
    "hash": "964ae86e7d2a4d18eccf98c7c4024c79ec7ee490b0c5fee6bba2152d7a2aa697"
   }
  }
 },
 "nbformat": 4,
 "nbformat_minor": 2
}
